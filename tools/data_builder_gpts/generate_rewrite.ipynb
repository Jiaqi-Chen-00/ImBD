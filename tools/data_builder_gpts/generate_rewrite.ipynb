{
 "cells": [
  {
   "cell_type": "code",
   "execution_count": null,
   "metadata": {},
   "outputs": [],
   "source": [
    "from openai import OpenAI\n",
    "import json\n",
    "import os\n",
    "import random\n",
    "import tqdm\n",
    "api_key = \"\"\n",
    "client = OpenAI(api_key=api_key)\n",
    "data_dir = \"../../data/pubmed.raw_data.json\"\n",
    "dataset=\"pubmed\"\n",
    "model=\"gpt-4o\"\n",
    "\n",
    "with open(data_dir,\"r\") as f:\n",
    "    sentences = json.load(f)['original']\n",
    "if \"pubmed\" in data_dir:\n",
    "    questions = [i.split(\"Answer:\")[0] for i in sentences]\n",
    "    input_sentences = [i.split(\"Answer: \")[1] for i in sentences]\n",
    "    print(questions[0])\n",
    "else:\n",
    "    input_sentences=sentences\n",
    "\n",
    "print(len(input_sentences))\n",
    "print(input_sentences[0])\n"
   ]
  },
  {
   "cell_type": "code",
   "execution_count": null,
   "metadata": {},
   "outputs": [
    {
     "name": "stderr",
     "output_type": "stream",
     "text": [
      "100%|██████████| 150/150 [03:38<00:00,  1.45s/it]\n"
     ]
    }
   ],
   "source": [
    "res = []\n",
    "for sentence in tqdm.tqdm(input_sentences):\n",
    "    completion = client.chat.completions.create(\n",
    "        model=model,\n",
    "        messages=[\n",
    "            {\"role\": \"system\", \"content\": \"You are a professional rewriting expert and you can help paraphrasing this paragraph in English without missing the original details. Please keep the length of the rewritten text similar to the original text.\"},\n",
    "            {\"role\": \"user\", \"content\": f\"{sentence}\"}\n",
    "        ],\n",
    "        temperature=0.7\n",
    "    )\n",
    "    res.append(completion.choices[0].message.content)"
   ]
  },
  {
   "cell_type": "code",
   "execution_count": null,
   "metadata": {},
   "outputs": [],
   "source": [
    "with open(data_dir,\"r\") as f:\n",
    "    sentences = json.load(f)['original']\n",
    "dic = {\n",
    "    \"original\": sentences,\n",
    "    \"rewritten\": res\n",
    "}\n",
    "if \"pubmed\" in dataset:\n",
    "    dic['rewritten'] = [questions[idx] + \"Answers: \" + j for idx,j in enumerate(dic['rewritten'])]\n",
    "    \n",
    "with open(f'../../data/{model}/{dataset}_rewrite_{model}.raw_data.json', 'w', encoding='utf-8') as f:\n",
    "    json.dump(dic, f, ensure_ascii=False, indent=4)"
   ]
  }
 ],
 "metadata": {
  "kernelspec": {
   "display_name": "coding_env",
   "language": "python",
   "name": "python3"
  },
  "language_info": {
   "codemirror_mode": {
    "name": "ipython",
    "version": 3
   },
   "file_extension": ".py",
   "mimetype": "text/x-python",
   "name": "python",
   "nbconvert_exporter": "python",
   "pygments_lexer": "ipython3",
   "version": "3.9.13"
  }
 },
 "nbformat": 4,
 "nbformat_minor": 2
}
