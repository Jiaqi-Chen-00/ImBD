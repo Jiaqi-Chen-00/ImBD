{
 "cells": [
  {
   "cell_type": "code",
   "execution_count": null,
   "metadata": {},
   "outputs": [],
   "source": [
    "from openai import OpenAI\n",
    "import json\n",
    "import os\n",
    "import random\n",
    "import tqdm\n",
    "import tiktoken\n",
    "\n",
    "api_key = \"\"\n",
    "client = OpenAI(api_key=api_key)\n",
    "data_dir = \"../../data/xsum.raw_data.json\"\n",
    "dataset=data_dir.split(\"/\")[-1].split(\".\")[0]\n",
    "model=\"gpt-4o\"\n",
    "\n",
    "with open(data_dir,\"r\") as f:\n",
    "    sentences = json.load(f)['original']\n",
    "\n",
    "    \n",
    "result = dict(original=sentences,rewritten=[])\n",
    "\n",
    "for idx, sentence in enumerate(tqdm.tqdm(sentences)):\n",
    "    encoding = tiktoken.encoding_for_model(model)\n",
    "    encoded = encoding.encode(sentence)[:30]\n",
    "    decode_sentence = encoding.decode(encoded)\n",
    "    # print(decode_sentence)\n",
    "    completion = client.chat.completions.create(\n",
    "        model=model,\n",
    "        messages=[\n",
    "            {\"role\": \"system\", \"content\": f\"You are a News writer.\"},\n",
    "            {\"role\": \"user\", \"content\": f\"Please write an article with about 150 words starting exactly with: {decode_sentence}\"}\n",
    "        ],\n",
    "        temperature=0.7\n",
    "    )\n",
    "    result['rewritten'].append(completion.choices[0].message.content)\n",
    "\n",
    "with open(f'../../data/{model}/{dataset}_generation_{model}.raw_data.json', 'w', encoding='utf-8') as f:\n",
    "    json.dump(result, f, ensure_ascii=False, indent=4)"
   ]
  }
 ],
 "metadata": {
  "kernelspec": {
   "display_name": "coding_env",
   "language": "python",
   "name": "python3"
  },
  "language_info": {
   "codemirror_mode": {
    "name": "ipython",
    "version": 3
   },
   "file_extension": ".py",
   "mimetype": "text/x-python",
   "name": "python",
   "nbconvert_exporter": "python",
   "pygments_lexer": "ipython3",
   "version": "3.9.13"
  }
 },
 "nbformat": 4,
 "nbformat_minor": 2
}
